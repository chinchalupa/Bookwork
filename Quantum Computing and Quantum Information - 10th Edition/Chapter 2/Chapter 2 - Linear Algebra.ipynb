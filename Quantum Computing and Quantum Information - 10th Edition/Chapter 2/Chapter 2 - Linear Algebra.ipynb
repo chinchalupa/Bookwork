{
 "cells": [
  {
   "cell_type": "markdown",
   "metadata": {},
   "source": [
    "**Exercise 2.2**\n",
    "\n",
    "*Question:* Suppose $V$ is a vector space with basis vectors $\\mid 0\\rangle$ and $\\mid 1\\rangle$ and $A$ is a linear operator from $V$ to $V$ such that $A\\mid 0\\rangle=\\mid 1\\rangle$ and $A\\mid 1\\rangle=\\mid 0\\rangle$. Give a matrix representation for $A$, with respect to the input basis $\\mid 0\\rangle$,$\\mid 1\\rangle$, and the output basis $\\mid 0\\rangle$,$\\mid 1\\rangle$. Find input and output bases which give rise to a different matrix representation of $A$."
   ]
  },
  {
   "cell_type": "markdown",
   "metadata": {},
   "source": [
    "*Answer:* $\\mid 01\\rangle + \\mid 10\\rangle$ -or- $\\begin{bmatrix} 0 & 1 \\\\ 1 & 0\\end{bmatrix}$\n",
    "\n",
    "*Explanation:* \n",
    "\n",
    "$$\\mid 01\\rangle = \\mid 0\\rangle\\otimes\\mid 1\\rangle = \\begin{bmatrix} 0 & 1 \\\\ 0 & 0\\end{bmatrix}$$\n",
    "$$\\mid 10\\rangle = \\mid 1\\rangle\\otimes\\mid 0\\rangle = \\begin{bmatrix} 0 & 0 \\\\ 1 & 0\\end{bmatrix}$$\n",
    "\n",
    "Then, by property of addition of matrices, $\\mid 01\\rangle + \\mid 10\\rangle = \\begin{bmatrix} 0 & 1 \\\\ 1 & 0\\end{bmatrix}$"
   ]
  },
  {
   "cell_type": "markdown",
   "metadata": {},
   "source": [
    "**Exercise 2.3**\n",
    "\n",
    "*Question:* Suppose $A$ is a linear operator from vector space $V$ to vector space $W$ and $B$ is a linear operator from vector space $W$ to vector space $X$. Let $\\mid v_i\\rangle,\\mid w_j\\rangle, \\mid x_k\\rangle$ be bases for the vector spaces $V$,$W$, and $X$ respectively. Show the matrix representation for the linear operator $BA$ is the matrix product matrix representation for $B$ and $A$ with respect to the appropriate bases."
   ]
  },
  {
   "cell_type": "markdown",
   "metadata": {},
   "source": [
    "**Exercise 2.10**\n",
    "\n",
    "*Question:* Suppose $\\mid v_i\\rangle$ is an orthonormal basis for an inner product space $V$. What is the matrix representation for the operator $\\mid v_j\\rangle\\langle v_k\\mid$, with respect to the $\\mid v_i\\rangle$ basis?"
   ]
  },
  {
   "cell_type": "markdown",
   "metadata": {},
   "source": [
    "**Exercise 2.11**\n",
    "\n",
    "*Question:* Prove that the matrix $$\\begin{bmatrix} 1 & 0 \\\\ 1 & 1 \\end{bmatrix}$$ is not diagonalizable."
   ]
  },
  {
   "cell_type": "markdown",
   "metadata": {},
   "source": [
    "*Answer:* We can write the matrix above as sum of outer products:\n",
    "$$\\mid 0\\rangle\\langle 0\\mid + \\mid 1\\rangle\\langle 1\\mid + \\mid 0\\rangle\\langle 1\\mid$$"
   ]
  },
  {
   "cell_type": "code",
   "execution_count": null,
   "metadata": {},
   "outputs": [],
   "source": []
  }
 ],
 "metadata": {
  "kernelspec": {
   "display_name": "Python 3",
   "language": "python",
   "name": "python3"
  },
  "language_info": {
   "codemirror_mode": {
    "name": "ipython",
    "version": 3
   },
   "file_extension": ".py",
   "mimetype": "text/x-python",
   "name": "python",
   "nbconvert_exporter": "python",
   "pygments_lexer": "ipython3",
   "version": "3.6.2"
  }
 },
 "nbformat": 4,
 "nbformat_minor": 2
}
