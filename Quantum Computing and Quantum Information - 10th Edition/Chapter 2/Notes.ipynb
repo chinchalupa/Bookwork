{
 "cells": [
  {
   "cell_type": "markdown",
   "metadata": {},
   "source": [
    "Assuming that two vectors share an orthonormal basis, then the inner product between those matrices is the same as the inner product of two vectors."
   ]
  },
  {
   "cell_type": "markdown",
   "metadata": {},
   "source": [
    "## Vector Duals\n",
    "In quantum mechanics, there is the concept of the vector dual. Given a vector $\\mid v\\rangle$, we can write its complex conjugate as $\\langle v\\mid$. This is also often called the *outer product representation*.\n",
    "\n",
    "We can use vector duals to describe a linear operator from vector space $V$ to vector space $W$. This can be written as $\\mid w\\rangle\\langle v\\mid$. We can define this vector dual acting on vector $\\mid v'\\rangle$ as $(\\mid w\\rangle\\langle v\\mid)\\mid v'\\rangle$. Since linear operations are order independent, we can rewrite this equation as $\\mid w\\rangle\\langle v\\mid v'\\rangle$.\n",
    "\n",
    "We can write this as the summation $\\sum_i a_i\\mid w_i\\rangle\\langle v_i\\mid$. Acting on $\\mid v'\\rangle$, we can write it as $\\sum_i a_i\\mid w_i\\rangle\\langle v_i\\mid v'\\rangle$"
   ]
  },
  {
   "cell_type": "markdown",
   "metadata": {},
   "source": [
    "## Completeness Relation\n",
    "The completeness relation can be succinctly written as: $$\\sum_i \\mid i\\rangle\\langle i\\mid = I$$ where $I$ is the identity matrix.\n",
    "\n",
    "Since $I$ is a matrix transform in a specific basis, then we can use $I_w$ and $I_v$ to represent the identity matrices in the appropriate vector spaces. Using the completeness relation, we can write the transform $A$ as $A = I_w A I_v$. Expand this to get \n",
    "\n",
    "$$\\sum_{ij} \\mid w_j\\rangle\\langle w_j\\mid A\\mid v_i\\rangle\\langle v_i\\mid$$\n",
    "\n",
    "This can be rewritten as \n",
    "\n",
    "$$\\sum_{ij} \\langle w_j\\mid A\\mid v_i\\rangle\\mid w_j\\rangle\\langle v_i\\mid$$"
   ]
  },
  {
   "cell_type": "markdown",
   "metadata": {},
   "source": [
    "## Cauchy-Schwarz Inequality\n",
    "\n",
    "The Cauchy-Schwarz inequality states that given two vectors $\\mid v\\rangle$ and $\\mid w\\rangle$, $\\mid\\langle v\\mid w\\rangle\\mid^2 \\le \\langle v\\mid v\\rangle\\langle w\\mid w\\rangle$"
   ]
  },
  {
   "cell_type": "markdown",
   "metadata": {},
   "source": [
    "## Eigenvectors and Eigenvalues\n",
    "\n",
    "Eigenvectors of a linear operator $A$ is a non-zero vector $\\mid v\\rangle$ such that $A\\mid v\\rangle = v\\mid v\\rangle$ where $v$ is the complex eigenvalue of $A$.\n",
    "The characteristic function is defined to be $c(\\lambda)\\cong det\\mid A-\\lambda I\\mid$."
   ]
  },
  {
   "cell_type": "markdown",
   "metadata": {},
   "source": [
    "## Diagonal Representations\n",
    "A diagonal representation is a matrix representation where it can be written as a sum of orthonormal basis vectors. For this reason, they are sometimes known as orthonormal decompositions and their resulting matrices are \"diagonalizable\".\n",
    "\n",
    "$$\\sum_i \\lambda_i\\mid i\\rangle\\langle i \\mid$$"
   ]
  },
  {
   "cell_type": "code",
   "execution_count": null,
   "metadata": {},
   "outputs": [],
   "source": []
  }
 ],
 "metadata": {
  "kernelspec": {
   "display_name": "Python 3",
   "language": "python",
   "name": "python3"
  },
  "language_info": {
   "codemirror_mode": {
    "name": "ipython",
    "version": 3
   },
   "file_extension": ".py",
   "mimetype": "text/x-python",
   "name": "python",
   "nbconvert_exporter": "python",
   "pygments_lexer": "ipython3",
   "version": "3.6.2"
  }
 },
 "nbformat": 4,
 "nbformat_minor": 2
}
